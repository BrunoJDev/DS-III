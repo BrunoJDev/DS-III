{
  "cells": [
    {
      "cell_type": "code",
      "execution_count": null,
      "metadata": {
        "colab": {
          "base_uri": "https://localhost:8080/"
        },
        "id": "r1sx4w-xy-bk",
        "outputId": "685d5e8e-5df0-43b0-9b85-62cac0ac8b80"
      },
      "outputs": [],
      "source": [
        "import nltk\n",
        "import spacy\n",
        "import pandas as pd\n",
        "import numpy as np\n",
        "import seaborn as sns\n",
        "import matplotlib.pyplot as plt\n",
        "from wordcloud import WordCloud\n",
        "from collections import Counter\n",
        "from sklearn.model_selection import train_test_split\n",
        "from sklearn.feature_extraction.text import TfidfVectorizer, CountVectorizer\n",
        "from sklearn.naive_bayes import MultinomialNB\n",
        "from sklearn.pipeline import Pipeline\n",
        "from sklearn.metrics import accuracy_score, classification_report\n",
        "\n",
        "# Descargar recursos necesarios de nltk\n",
        "nltk.download('stopwords')\n",
        "nltk.download('punkt')\n",
        "nltk.download('wordnet')\n",
        "nltk.download('omw-1.4')\n",
        "from nltk.corpus import stopwords\n",
        "from nltk.tokenize import word_tokenize\n",
        "from nltk.stem import WordNetLemmatizer"
      ]
    },
    {
      "cell_type": "code",
      "execution_count": null,
      "metadata": {
        "id": "FSypVEZjzB2P"
      },
      "outputs": [],
      "source": [
        "# Cargar modelo de spaCy en inglés\n",
        "nlp = spacy.load(\"en_core_web_sm\")"
      ]
    },
    {
      "cell_type": "code",
      "execution_count": null,
      "metadata": {
        "id": "_CtH6KIezDYP"
      },
      "outputs": [],
      "source": [
        "# Cargar dataset\n",
        "df = pd.read_csv('https://raw.githubusercontent.com/nacho1907/Bases/refs/heads/main/fake_or_real_news.csv')\n",
        "df = df.rename(columns={\"text\": \"texto\", \"label\": \"sentimiento\"})"
      ]
    },
    {
      "cell_type": "code",
      "execution_count": null,
      "metadata": {
        "colab": {
          "base_uri": "https://localhost:8080/"
        },
        "id": "VQurOdbCwQuY",
        "outputId": "2dfc8289-242d-4470-9c3f-79b2b4708fa3"
      },
      "outputs": [],
      "source": [
        "df.sentimiento.unique()"
      ]
    },
    {
      "cell_type": "code",
      "execution_count": null,
      "metadata": {
        "id": "O2LxOQjgwg9c"
      },
      "outputs": [],
      "source": [
        "df = df.set_index('Unnamed: 0')"
      ]
    },
    {
      "cell_type": "code",
      "execution_count": null,
      "metadata": {
        "colab": {
          "base_uri": "https://localhost:8080/"
        },
        "id": "w0IbbM8ZxifR",
        "outputId": "ebbaf991-f1ff-40f6-8cbf-fe8112937c65"
      },
      "outputs": [],
      "source": [
        "df.shape"
      ]
    },
    {
      "cell_type": "code",
      "execution_count": null,
      "metadata": {
        "colab": {
          "base_uri": "https://localhost:8080/",
          "height": 237
        },
        "id": "Od8gEuhVwOjz",
        "outputId": "2f8e157a-bd34-4d1c-c5b3-3cce38c12c5b"
      },
      "outputs": [],
      "source": [
        "df.head()"
      ]
    },
    {
      "cell_type": "code",
      "execution_count": null,
      "metadata": {
        "id": "QLTUSXUl7AUo"
      },
      "outputs": [],
      "source": [
        "# Contar cuantas noticias reales y fakes hay en el dataset\n",
        "# Està balanceado? Còmo lo arreglarìas sino?"
      ]
    },
    {
      "cell_type": "code",
      "execution_count": null,
      "metadata": {
        "id": "eC0lY8if48rO"
      },
      "outputs": [],
      "source": [
        "# Dimensiona el dataset\n",
        "# En tèrmino de variable que diferencias encuentras con los que usabas en Machine Learning?"
      ]
    },
    {
      "cell_type": "code",
      "execution_count": null,
      "metadata": {
        "id": "Bo-Zu7MV46uI"
      },
      "outputs": [],
      "source": [
        "# Corta a un nùmero reducido de noticias para facilitar el procesamiento\n",
        "# Las clases quedaron balanceadas?"
      ]
    },
    {
      "cell_type": "code",
      "execution_count": null,
      "metadata": {
        "id": "YrD_QqEDzF2C"
      },
      "outputs": [],
      "source": [
        "# Ajustar etiquetas de sentimiento (0 = fake, 1 = real)"
      ]
    },
    {
      "cell_type": "code",
      "execution_count": null,
      "metadata": {
        "id": "YeVvfai4pYFF"
      },
      "outputs": [],
      "source": [
        "def preprocesar_texto(texto):\n",
        "    \"\"\"Tokeniza, elimina stopwords, lematiza y elimina caracteres especiales.\"\"\"\n",
        "    doc = nlp(str(texto).lower())  # Convertir a minúsculas y procesar con spaCy\n",
        "    tokens = [token.lemma_ for token in doc if token.is_alpha and token.text not in stopwords.words('english')]\n",
        "    return \" \".join(tokens)"
      ]
    },
    {
      "cell_type": "code",
      "execution_count": null,
      "metadata": {
        "colab": {
          "base_uri": "https://localhost:8080/",
          "height": 547
        },
        "id": "JcNyrGwezJFf",
        "outputId": "285a1832-6e97-4b43-afa4-bae1ae4245dd"
      },
      "outputs": [],
      "source": [
        "# Aplicar preprocesamiento\n",
        "\n",
        "\n",
        "# Visualizar nube de palabras completando la secuencia de creaciòn\n",
        "text_combined = \" \".join(df['texto_procesado'])\n",
        "wordcloud = WordCloud(width=800, height=400, background_color='white').generate(xxxxxxxxxxxxxxxxxxxxxxxxxxxxxx)\n",
        "plt.figure(figsize=(10, 5))\n",
        "plt.imshow(wordcloud, interpolation='bilinear')\n",
        "plt.axis(\"off\")\n",
        "plt.title(\"Nube de palabras\")\n",
        "plt.show()"
      ]
    },
    {
      "cell_type": "code",
      "execution_count": null,
      "metadata": {
        "colab": {
          "base_uri": "https://localhost:8080/",
          "height": 211
        },
        "id": "BVmyLCp8zM24",
        "outputId": "dffe41d1-7964-4dbd-a24c-7748c6b94104"
      },
      "outputs": [],
      "source": [
        "# Análisis de n-grams, adicionar bigramas, trigramas y cuatrigramas. Plotearlos.\n",
        "def get_top_ngrams(corpus, n, top_k=10):\n",
        "    vectorizer = CountVectorizer(ngram_range=(n, n))\n",
        "    X = vectorizer.fit_transform(corpus)\n",
        "    ngram_counts = X.sum(axis=0).A1\n",
        "    ngram_features = vectorizer.get_feature_names_out()\n",
        "    ngram_freq = list(zip(ngram_features, ngram_counts))\n",
        "    ngram_freq = sorted(ngram_freq, key=lambda x: x[1], reverse=True)[:top_k]\n",
        "    return pd.DataFrame(ngram_freq, columns=['N-gram', 'Frecuencia'])\n",
        "\n",
        "def plot_ngrams(ngram_df, title):\n",
        "    plt.figure(figsize=(10, 5))\n",
        "    sns.barplot(x='Frecuencia', y='N-gram', data=ngram_df, palette='viridis')\n",
        "    plt.title(title)\n",
        "    plt.xlabel(\"Frecuencia\")\n",
        "    plt.ylabel(\"N-gram\")\n",
        "    plt.show()\n",
        "\n",
        "unigrams = get_top_ngrams(df['texto_procesado'], 1)\n",
        "xxxxxxxxxxxxxxxxxxxxxxxxxxxxxxxxxxxxxx\n",
        "\n",
        "print(\"Unigramas más comunes:\")\n",
        "print(unigrams)\n",
        "plot_ngrams(unigrams, \"Unigramas más comunes\")\n",
        "\n",
        "print(\"\\nBigramas más comunes:\")\n",
        "print(bigrams)\n",
        "plot_ngrams(bigrams, \"Bigramas más comunes\")\n",
        "\n",
        "print(\"\\nTrigramas más comunes:\")\n",
        "print(trigrams)\n",
        "plot_ngrams(trigrams, \"Trigramas más comunes\")"
      ]
    },
    {
      "cell_type": "code",
      "execution_count": null,
      "metadata": {
        "id": "KtZHQ83xzP4K"
      },
      "outputs": [],
      "source": [
        "# Separar datos en entrenamiento y prueba\n"
      ]
    },
    {
      "cell_type": "code",
      "execution_count": 3,
      "metadata": {
        "id": "9saRUGXLzSfK"
      },
      "outputs": [],
      "source": [
        "# Pipeline de vectorización y modelo\n",
        "pipeline = Pipeline([\n",
        "    ('tfidf', TfidfVectorizer()),\n",
        "    ('clf', MultinomialNB())\n",
        "])"
      ]
    },
    {
      "cell_type": "code",
      "execution_count": null,
      "metadata": {
        "colab": {
          "base_uri": "https://localhost:8080/",
          "height": 106
        },
        "id": "tBH0yLsFzU0B",
        "outputId": "f1b3dc8d-b0a3-49ad-eea0-ac47d3012316"
      },
      "outputs": [],
      "source": [
        "# Entrenar modelo\n",
        "\n",
        "\n",
        "# Predicciones\n",
        "y_pred ="
      ]
    },
    {
      "cell_type": "code",
      "execution_count": null,
      "metadata": {
        "id": "0M6bmfVyzWLA"
      },
      "outputs": [],
      "source": [
        "# Evaluación\n",
        "print(\"Accuracy:\", accuracy_score(y_test, y_pred))\n",
        "print(classification_report(y_test, y_pred))"
      ]
    },
    {
      "cell_type": "code",
      "execution_count": null,
      "metadata": {
        "id": "KCxvC-wFM9u1"
      },
      "outputs": [],
      "source": [
        "##DataFlair - Initialize a TfidfVectorizer\n",
        "tfidf_vectorizer = TfidfVectorizer(stop_words='english', max_df =0.9)\n",
        "## DataFlair - fit and transform train set, transform test set\n",
        "tfidf_train = tfidf_vectorizer.fit_transform(X_train)\n",
        "tfidf_test = tfidf_vectorizer.transform(X_test)"
      ]
    },
    {
      "cell_type": "code",
      "execution_count": null,
      "metadata": {
        "id": "OF1Jds7CMwdV"
      },
      "outputs": [],
      "source": [
        "from sklearn.linear_model import PassiveAggressiveClassifier\n",
        "pac=PassiveAggressiveClassifier(max_iter=50)\n",
        "pac.fit(tfidf_train,y_train)"
      ]
    },
    {
      "cell_type": "code",
      "execution_count": null,
      "metadata": {
        "id": "_BYJk0IFNJom"
      },
      "outputs": [],
      "source": [
        "y_pred2=pac.predict(tfidf_test)"
      ]
    },
    {
      "cell_type": "code",
      "execution_count": null,
      "metadata": {
        "id": "p-cEdKqDNMc4"
      },
      "outputs": [],
      "source": [
        "# Evaluación\n",
        "print(\"Accuracy:\", accuracy_score(y_test, y_pred2))\n",
        "print(classification_report(y_test, y_pred2))"
      ]
    }
  ],
  "metadata": {
    "colab": {
      "provenance": []
    },
    "kernelspec": {
      "display_name": "Python 3",
      "name": "python3"
    },
    "language_info": {
      "name": "python"
    }
  },
  "nbformat": 4,
  "nbformat_minor": 0
}
